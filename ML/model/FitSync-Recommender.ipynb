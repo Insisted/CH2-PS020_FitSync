{
 "cells": [
  {
   "cell_type": "markdown",
   "metadata": {},
   "source": [
    "[![Open In Colab](https://colab.research.google.com/assets/colab-badge.svg)](https://github.com/Insisted/CH2-PS020_FitSync/blob/main/ML/model/FitSync-Recommender.ipynb)"
   ]
  },
  {
   "cell_type": "code",
   "execution_count": null,
   "metadata": {},
   "outputs": [],
   "source": [
    "try:\n",
    "    import zipfile\n",
    "    from google.colab import drive\n",
    "\n",
    "    drive.mount('/content/drive')\n",
    "\n",
    "    token = '/content/drive/MyDrive/Colab Notebooks/kaggle.json'\n",
    "    dataset_path = '/content/data'\n",
    "\n",
    "    !pip install kaggle --quiet\n",
    "\n",
    "    !mkdir ~/.kaggle\n",
    "    !cp \"{token}\" ~/.kaggle/\n",
    "    !chmod 600 ~/.kaggle/kaggle.json\n",
    "\n",
    "    !kaggle datasets download -d niharika41298/gym-exercise-data\n",
    "\n",
    "    zip_ref = zipfile.ZipFile('gym-exercise-data.zip', 'r')\n",
    "    zip_ref.extractall(dataset_path)\n",
    "    zip_ref.close()\n",
    "except ImportError:\n",
    "    dataset_path = '../data/megaGymDataset.csv'"
   ]
  },
  {
   "cell_type": "code",
   "execution_count": null,
   "metadata": {},
   "outputs": [],
   "source": [
    "import pandas as pd"
   ]
  },
  {
   "cell_type": "code",
   "execution_count": null,
   "metadata": {},
   "outputs": [],
   "source": [
    "df = pd.read_csv(dataset_path) # https://www.kaggle.com/datasets/niharika41298/gym-exercise-data\n",
    "\n",
    "df.head()"
   ]
  },
  {
   "cell_type": "code",
   "execution_count": null,
   "metadata": {},
   "outputs": [],
   "source": [
    "df.info()"
   ]
  },
  {
   "cell_type": "code",
   "execution_count": null,
   "metadata": {},
   "outputs": [],
   "source": [
    "df.isna().sum()"
   ]
  },
  {
   "cell_type": "code",
   "execution_count": null,
   "metadata": {},
   "outputs": [],
   "source": [
    "# Convert to categorical\n",
    "\n",
    "df['Title'] = pd.Categorical(df.Title)\n",
    "df['Type'] = pd.Categorical(df.Type)\n",
    "df['BodyPart'] = pd.Categorical(df.BodyPart)\n",
    "df['Level'] = pd.Categorical(df.Level)"
   ]
  },
  {
   "cell_type": "code",
   "execution_count": null,
   "metadata": {},
   "outputs": [],
   "source": [
    "df.Equipment.unique()"
   ]
  },
  {
   "cell_type": "code",
   "execution_count": null,
   "metadata": {},
   "outputs": [],
   "source": [
    "df = df.loc[(df.Equipment == 'Body Only')] # (data.Level == 'Beginner'), (data.Desc.notna())\n",
    "\n",
    "df.drop(['Unnamed: 0', 'Desc', 'Equipment', 'RatingDesc'], axis=1, inplace=True)\n",
    "\n",
    "df.info()"
   ]
  },
  {
   "cell_type": "code",
   "execution_count": null,
   "metadata": {},
   "outputs": [],
   "source": [
    "df.loc[(df.Level == 'Beginner')].BodyPart.unique()"
   ]
  },
  {
   "cell_type": "code",
   "execution_count": null,
   "metadata": {},
   "outputs": [],
   "source": [
    "beginner = df.loc[(df.Level == 'Beginner')]\n",
    "\n",
    "for i in beginner.BodyPart.unique():\n",
    "    print(beginner.loc[(df.BodyPart == i)].BodyPart.unique()[0], beginner.loc[(df.BodyPart == i)].shape)"
   ]
  },
  {
   "cell_type": "code",
   "execution_count": null,
   "metadata": {},
   "outputs": [],
   "source": []
  }
 ],
 "metadata": {
  "kernelspec": {
   "display_name": "Python 3.8.10 64-bit",
   "language": "python",
   "name": "python3"
  },
  "language_info": {
   "codemirror_mode": {
    "name": "ipython",
    "version": 3
   },
   "file_extension": ".py",
   "mimetype": "text/x-python",
   "name": "python",
   "nbconvert_exporter": "python",
   "pygments_lexer": "ipython3",
   "version": "3.8.10"
  },
  "orig_nbformat": 4,
  "vscode": {
   "interpreter": {
    "hash": "723d4b7bc280cd31fdada53ad6420192b9a3a8d60631096143cc718cb9440dc1"
   }
  }
 },
 "nbformat": 4,
 "nbformat_minor": 2
}
