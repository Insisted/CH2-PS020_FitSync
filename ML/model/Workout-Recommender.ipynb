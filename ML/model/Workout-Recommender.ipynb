{
 "cells": [
  {
   "cell_type": "markdown",
   "metadata": {},
   "source": [
    "[![Open In Colab](https://colab.research.google.com/assets/colab-badge.svg)](https://colab.research.google.com/github//Insisted/CH2-PS020_FitSync/blob/main/ML/model/FitSync-Recommender.ipynb)"
   ]
  },
  {
   "cell_type": "code",
   "execution_count": 1,
   "metadata": {},
   "outputs": [],
   "source": [
    "try:\n",
    "    import zipfile\n",
    "    from google.colab import drive\n",
    "\n",
    "    drive.mount('/content/drive')\n",
    "\n",
    "    token = '/content/drive/MyDrive/Colab Notebooks/kaggle.json'\n",
    "    dataset_path = '/content/megaGymDataset.csv'\n",
    "\n",
    "    !pip install kaggle --quiet\n",
    "\n",
    "    !mkdir ~/.kaggle\n",
    "    !cp \"{token}\" ~/.kaggle/\n",
    "    !chmod 600 ~/.kaggle/kaggle.json\n",
    "\n",
    "    !kaggle datasets download -d niharika41298/gym-exercise-data\n",
    "\n",
    "    zip_ref = zipfile.ZipFile('gym-exercise-data.zip', 'r')\n",
    "    zip_ref.extractall('/content')\n",
    "    zip_ref.close()\n",
    "except ImportError:\n",
    "    dataset_path = '../data/megaGymDataset.csv'"
   ]
  },
  {
   "cell_type": "code",
   "execution_count": 2,
   "metadata": {},
   "outputs": [],
   "source": [
    "import pandas as pd"
   ]
  },
  {
   "cell_type": "code",
   "execution_count": 3,
   "metadata": {},
   "outputs": [
    {
     "data": {
      "text/html": [
       "<div>\n",
       "<style scoped>\n",
       "    .dataframe tbody tr th:only-of-type {\n",
       "        vertical-align: middle;\n",
       "    }\n",
       "\n",
       "    .dataframe tbody tr th {\n",
       "        vertical-align: top;\n",
       "    }\n",
       "\n",
       "    .dataframe thead th {\n",
       "        text-align: right;\n",
       "    }\n",
       "</style>\n",
       "<table border=\"1\" class=\"dataframe\">\n",
       "  <thead>\n",
       "    <tr style=\"text-align: right;\">\n",
       "      <th></th>\n",
       "      <th>Unnamed: 0</th>\n",
       "      <th>Title</th>\n",
       "      <th>Desc</th>\n",
       "      <th>Type</th>\n",
       "      <th>BodyPart</th>\n",
       "      <th>Equipment</th>\n",
       "      <th>Level</th>\n",
       "      <th>Rating</th>\n",
       "      <th>RatingDesc</th>\n",
       "    </tr>\n",
       "  </thead>\n",
       "  <tbody>\n",
       "    <tr>\n",
       "      <th>0</th>\n",
       "      <td>0</td>\n",
       "      <td>Partner plank band row</td>\n",
       "      <td>The partner plank band row is an abdominal exe...</td>\n",
       "      <td>Strength</td>\n",
       "      <td>Abdominals</td>\n",
       "      <td>Bands</td>\n",
       "      <td>Intermediate</td>\n",
       "      <td>0.0</td>\n",
       "      <td>NaN</td>\n",
       "    </tr>\n",
       "    <tr>\n",
       "      <th>1</th>\n",
       "      <td>1</td>\n",
       "      <td>Banded crunch isometric hold</td>\n",
       "      <td>The banded crunch isometric hold is an exercis...</td>\n",
       "      <td>Strength</td>\n",
       "      <td>Abdominals</td>\n",
       "      <td>Bands</td>\n",
       "      <td>Intermediate</td>\n",
       "      <td>NaN</td>\n",
       "      <td>NaN</td>\n",
       "    </tr>\n",
       "    <tr>\n",
       "      <th>2</th>\n",
       "      <td>2</td>\n",
       "      <td>FYR Banded Plank Jack</td>\n",
       "      <td>The banded plank jack is a variation on the pl...</td>\n",
       "      <td>Strength</td>\n",
       "      <td>Abdominals</td>\n",
       "      <td>Bands</td>\n",
       "      <td>Intermediate</td>\n",
       "      <td>NaN</td>\n",
       "      <td>NaN</td>\n",
       "    </tr>\n",
       "    <tr>\n",
       "      <th>3</th>\n",
       "      <td>3</td>\n",
       "      <td>Banded crunch</td>\n",
       "      <td>The banded crunch is an exercise targeting the...</td>\n",
       "      <td>Strength</td>\n",
       "      <td>Abdominals</td>\n",
       "      <td>Bands</td>\n",
       "      <td>Intermediate</td>\n",
       "      <td>NaN</td>\n",
       "      <td>NaN</td>\n",
       "    </tr>\n",
       "    <tr>\n",
       "      <th>4</th>\n",
       "      <td>4</td>\n",
       "      <td>Crunch</td>\n",
       "      <td>The crunch is a popular core exercise targetin...</td>\n",
       "      <td>Strength</td>\n",
       "      <td>Abdominals</td>\n",
       "      <td>Bands</td>\n",
       "      <td>Intermediate</td>\n",
       "      <td>NaN</td>\n",
       "      <td>NaN</td>\n",
       "    </tr>\n",
       "  </tbody>\n",
       "</table>\n",
       "</div>"
      ],
      "text/plain": [
       "   Unnamed: 0                         Title  \\\n",
       "0           0        Partner plank band row   \n",
       "1           1  Banded crunch isometric hold   \n",
       "2           2         FYR Banded Plank Jack   \n",
       "3           3                 Banded crunch   \n",
       "4           4                        Crunch   \n",
       "\n",
       "                                                Desc      Type    BodyPart  \\\n",
       "0  The partner plank band row is an abdominal exe...  Strength  Abdominals   \n",
       "1  The banded crunch isometric hold is an exercis...  Strength  Abdominals   \n",
       "2  The banded plank jack is a variation on the pl...  Strength  Abdominals   \n",
       "3  The banded crunch is an exercise targeting the...  Strength  Abdominals   \n",
       "4  The crunch is a popular core exercise targetin...  Strength  Abdominals   \n",
       "\n",
       "  Equipment         Level  Rating RatingDesc  \n",
       "0     Bands  Intermediate     0.0        NaN  \n",
       "1     Bands  Intermediate     NaN        NaN  \n",
       "2     Bands  Intermediate     NaN        NaN  \n",
       "3     Bands  Intermediate     NaN        NaN  \n",
       "4     Bands  Intermediate     NaN        NaN  "
      ]
     },
     "execution_count": 3,
     "metadata": {},
     "output_type": "execute_result"
    }
   ],
   "source": [
    "df = pd.read_csv(dataset_path) # https://www.kaggle.com/datasets/niharika41298/gym-exercise-data\n",
    "\n",
    "df.head()"
   ]
  },
  {
   "cell_type": "code",
   "execution_count": 4,
   "metadata": {},
   "outputs": [
    {
     "name": "stdout",
     "output_type": "stream",
     "text": [
      "<class 'pandas.core.frame.DataFrame'>\n",
      "RangeIndex: 2918 entries, 0 to 2917\n",
      "Data columns (total 9 columns):\n",
      " #   Column      Non-Null Count  Dtype  \n",
      "---  ------      --------------  -----  \n",
      " 0   Unnamed: 0  2918 non-null   int64  \n",
      " 1   Title       2918 non-null   object \n",
      " 2   Desc        1368 non-null   object \n",
      " 3   Type        2918 non-null   object \n",
      " 4   BodyPart    2918 non-null   object \n",
      " 5   Equipment   2886 non-null   object \n",
      " 6   Level       2918 non-null   object \n",
      " 7   Rating      1031 non-null   float64\n",
      " 8   RatingDesc  862 non-null    object \n",
      "dtypes: float64(1), int64(1), object(7)\n",
      "memory usage: 205.3+ KB\n"
     ]
    }
   ],
   "source": [
    "df.info()"
   ]
  },
  {
   "cell_type": "code",
   "execution_count": 5,
   "metadata": {},
   "outputs": [
    {
     "data": {
      "text/plain": [
       "Unnamed: 0       0\n",
       "Title            0\n",
       "Desc          1550\n",
       "Type             0\n",
       "BodyPart         0\n",
       "Equipment       32\n",
       "Level            0\n",
       "Rating        1887\n",
       "RatingDesc    2056\n",
       "dtype: int64"
      ]
     },
     "execution_count": 5,
     "metadata": {},
     "output_type": "execute_result"
    }
   ],
   "source": [
    "df.isna().sum()"
   ]
  },
  {
   "cell_type": "code",
   "execution_count": 6,
   "metadata": {},
   "outputs": [],
   "source": [
    "# Convert to categorical\n",
    "\n",
    "df['Title'] = pd.Categorical(df.Title)\n",
    "df['Type'] = pd.Categorical(df.Type)\n",
    "df['BodyPart'] = pd.Categorical(df.BodyPart)\n",
    "df['Level'] = pd.Categorical(df.Level)"
   ]
  },
  {
   "cell_type": "code",
   "execution_count": 7,
   "metadata": {},
   "outputs": [
    {
     "data": {
      "text/plain": [
       "array(['Bands', 'Barbell', 'Kettlebells', 'Dumbbell', 'Other', 'Cable',\n",
       "       'Machine', 'Body Only', 'Medicine Ball', nan, 'Exercise Ball',\n",
       "       'Foam Roll', 'E-Z Curl Bar'], dtype=object)"
      ]
     },
     "execution_count": 7,
     "metadata": {},
     "output_type": "execute_result"
    }
   ],
   "source": [
    "df.Equipment.unique()"
   ]
  },
  {
   "cell_type": "code",
   "execution_count": 8,
   "metadata": {},
   "outputs": [
    {
     "name": "stdout",
     "output_type": "stream",
     "text": [
      "<class 'pandas.core.frame.DataFrame'>\n",
      "Index: 1078 entries, 185 to 2909\n",
      "Data columns (total 5 columns):\n",
      " #   Column    Non-Null Count  Dtype   \n",
      "---  ------    --------------  -----   \n",
      " 0   Title     1078 non-null   category\n",
      " 1   Type      1078 non-null   category\n",
      " 2   BodyPart  1078 non-null   category\n",
      " 3   Level     1078 non-null   category\n",
      " 4   Rating    269 non-null    float64 \n",
      "dtypes: category(4), float64(1)\n",
      "memory usage: 110.5 KB\n"
     ]
    }
   ],
   "source": [
    "df = df.loc[(df.Equipment == 'Body Only')] # (data.Level == 'Beginner'), (data.Desc.notna())\n",
    "\n",
    "df.drop(['Unnamed: 0', 'Desc', 'Equipment', 'RatingDesc'], axis=1, inplace=True)\n",
    "\n",
    "df.info()"
   ]
  },
  {
   "cell_type": "code",
   "execution_count": 9,
   "metadata": {},
   "outputs": [
    {
     "data": {
      "text/plain": [
       "['Abdominals', 'Abductors', 'Adductors', 'Biceps', 'Calves', ..., 'Lower Back', 'Neck', 'Quadriceps', 'Shoulders', 'Triceps']\n",
       "Length: 15\n",
       "Categories (17, object): ['Abdominals', 'Abductors', 'Adductors', 'Biceps', ..., 'Quadriceps', 'Shoulders', 'Traps', 'Triceps']"
      ]
     },
     "execution_count": 9,
     "metadata": {},
     "output_type": "execute_result"
    }
   ],
   "source": [
    "df.loc[(df.Level == 'Beginner')].BodyPart.unique()"
   ]
  },
  {
   "cell_type": "code",
   "execution_count": 10,
   "metadata": {},
   "outputs": [
    {
     "name": "stdout",
     "output_type": "stream",
     "text": [
      "Abdominals (15, 5)\n",
      "Abductors (3, 5)\n",
      "Adductors (2, 5)\n",
      "Biceps (1, 5)\n",
      "Calves (1, 5)\n",
      "Chest (20, 5)\n",
      "Forearms (1, 5)\n",
      "Glutes (6, 5)\n",
      "Hamstrings (9, 5)\n",
      "Lats (2, 5)\n",
      "Lower Back (2, 5)\n",
      "Neck (3, 5)\n",
      "Quadriceps (14, 5)\n",
      "Shoulders (1, 5)\n",
      "Triceps (2, 5)\n"
     ]
    }
   ],
   "source": [
    "beginner = df.loc[(df.Level == 'Beginner')]\n",
    "\n",
    "for i in beginner.BodyPart.unique():\n",
    "    print(beginner.loc[(df.BodyPart == i)].BodyPart.unique()[0], beginner.loc[(df.BodyPart == i)].shape)"
   ]
  },
  {
   "cell_type": "code",
   "execution_count": null,
   "metadata": {},
   "outputs": [],
   "source": []
  }
 ],
 "metadata": {
  "kernelspec": {
   "display_name": "Python 3.8.10 64-bit",
   "language": "python",
   "name": "python3"
  },
  "language_info": {
   "codemirror_mode": {
    "name": "ipython",
    "version": 3
   },
   "file_extension": ".py",
   "mimetype": "text/x-python",
   "name": "python",
   "nbconvert_exporter": "python",
   "pygments_lexer": "ipython3",
   "version": "3.8.10"
  },
  "orig_nbformat": 4,
  "vscode": {
   "interpreter": {
    "hash": "723d4b7bc280cd31fdada53ad6420192b9a3a8d60631096143cc718cb9440dc1"
   }
  }
 },
 "nbformat": 4,
 "nbformat_minor": 2
}
