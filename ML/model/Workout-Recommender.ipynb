{
  "cells": [
    {
      "cell_type": "markdown",
      "metadata": {
        "colab_type": "text",
        "id": "view-in-github"
      },
      "source": [
        "<a href=\"https://colab.research.google.com/github/Insisted/CH2-PS020_FitSync/blob/main/ML/model/Workout-Recommender.ipynb\" target=\"_parent\"><img src=\"https://colab.research.google.com/assets/colab-badge.svg\" alt=\"Open In Colab\"/></a>"
      ]
    },
    {
      "cell_type": "code",
      "execution_count": 1,
      "metadata": {
        "colab": {
          "base_uri": "https://localhost:8080/"
        },
        "id": "K1Vc4oChajjq",
        "outputId": "265698f5-dc86-4cff-9ced-5c963d660e90"
      },
      "outputs": [],
      "source": [
        "try:\n",
        "    from google.colab import drive\n",
        "    # import zipfile\n",
        "\n",
        "    # drive.mount('/content/drive')\n",
        "\n",
        "    # token = '/content/drive/MyDrive/BANGKIT/kaggle.json'\n",
        "    # dataset_path = '/content/megaGymDataset.csv'\n",
        "\n",
        "    # !pip install kaggle --quiet\n",
        "\n",
        "    # !mkdir ~/.kaggle\n",
        "    # !cp \"{token}\" ~/.kaggle/\n",
        "    # !chmod 600 ~/.kaggle/kaggle.json\n",
        "\n",
        "    # !kaggle datasets download -d niharika41298/gym-exercise-data\n",
        "\n",
        "    # zip_ref = zipfile.ZipFile('gym-exercise-data.zip', 'r')\n",
        "    # zip_ref.extractall('/content')\n",
        "    # zip_ref.close()\n",
        "\n",
        "    !gdown \"1jKEs_oVjHQ7Ur6WgtZ7TdKd2enUU3L-b\" # megaGymDataset.csv\n",
        "    !gdown \"1VmHL0uGVMhEWrVmz6GNNINRyQ8CR-JBz\" # Gym-Visual-EXERCISES-list.xlsx\n",
        "\n",
        "    dataset_path = './megaGymDataset.csv'\n",
        "    xls_path = './Gym-Visual-EXERCISES-list.xlsx'\n",
        "except ImportError:\n",
        "    dataset_path = '../data/megaGymDataset.csv'\n",
        "    xls_path = '../data/Gym-Visual-EXERCISES-list.xlsx'"
      ]
    },
    {
      "cell_type": "code",
      "execution_count": 2,
      "metadata": {
        "id": "-foQmdoYajjw"
      },
      "outputs": [],
      "source": [
        "import pandas as pd"
      ]
    },
    {
      "cell_type": "code",
      "execution_count": 3,
      "metadata": {
        "id": "NcKcZP7fajjz"
      },
      "outputs": [],
      "source": [
        "df = pd.read_csv(dataset_path) # https://www.kaggle.com/datasets/niharika41298/gym-exercise-data\n",
        "df_xls = pd.read_excel(xls_path, sheet_name='Animated GIFs')"
      ]
    },
    {
      "cell_type": "markdown",
      "metadata": {
        "id": "hnAfQu4Bz4e1"
      },
      "source": [
        "# megaGymDataset.csv"
      ]
    },
    {
      "cell_type": "code",
      "execution_count": 4,
      "metadata": {
        "colab": {
          "base_uri": "https://localhost:8080/"
        },
        "id": "RCC0YySgzlI3",
        "outputId": "0de448b3-1d5d-4a4b-9d4e-b4e244b45c22"
      },
      "outputs": [
        {
          "name": "stdout",
          "output_type": "stream",
          "text": [
            "<class 'pandas.core.frame.DataFrame'>\n",
            "RangeIndex: 2918 entries, 0 to 2917\n",
            "Data columns (total 9 columns):\n",
            " #   Column      Non-Null Count  Dtype  \n",
            "---  ------      --------------  -----  \n",
            " 0   Unnamed: 0  2918 non-null   int64  \n",
            " 1   Title       2918 non-null   object \n",
            " 2   Desc        1368 non-null   object \n",
            " 3   Type        2918 non-null   object \n",
            " 4   BodyPart    2918 non-null   object \n",
            " 5   Equipment   2886 non-null   object \n",
            " 6   Level       2918 non-null   object \n",
            " 7   Rating      1031 non-null   float64\n",
            " 8   RatingDesc  862 non-null    object \n",
            "dtypes: float64(1), int64(1), object(7)\n",
            "memory usage: 205.3+ KB\n"
          ]
        }
      ],
      "source": [
        "df.info()"
      ]
    },
    {
      "cell_type": "code",
      "execution_count": 5,
      "metadata": {
        "colab": {
          "base_uri": "https://localhost:8080/"
        },
        "id": "vsIHiyp8ajj3",
        "outputId": "d57a38b8-4a8c-4082-ac58-f22a8683712f"
      },
      "outputs": [
        {
          "data": {
            "text/plain": [
              "Unnamed: 0       0\n",
              "Title            0\n",
              "Desc          1550\n",
              "Type             0\n",
              "BodyPart         0\n",
              "Equipment       32\n",
              "Level            0\n",
              "Rating        1887\n",
              "RatingDesc    2056\n",
              "dtype: int64"
            ]
          },
          "execution_count": 5,
          "metadata": {},
          "output_type": "execute_result"
        }
      ],
      "source": [
        "df.isna().sum()"
      ]
    },
    {
      "cell_type": "code",
      "execution_count": 6,
      "metadata": {
        "colab": {
          "base_uri": "https://localhost:8080/"
        },
        "id": "J8ZNJu61ajj4",
        "outputId": "fffe1633-f279-4a08-abf7-179c65a86f39"
      },
      "outputs": [
        {
          "name": "stdout",
          "output_type": "stream",
          "text": [
            "<class 'pandas.core.frame.DataFrame'>\n",
            "Index: 1078 entries, 185 to 2909\n",
            "Data columns (total 9 columns):\n",
            " #   Column      Non-Null Count  Dtype   \n",
            "---  ------      --------------  -----   \n",
            " 0   Unnamed: 0  1078 non-null   int64   \n",
            " 1   Title       1078 non-null   category\n",
            " 2   Desc        404 non-null    object  \n",
            " 3   Type        1078 non-null   category\n",
            " 4   BodyPart    1078 non-null   category\n",
            " 5   Equipment   1078 non-null   object  \n",
            " 6   Level       1078 non-null   category\n",
            " 7   Rating      269 non-null    float64 \n",
            " 8   RatingDesc  196 non-null    object  \n",
            "dtypes: category(4), float64(1), int64(1), object(3)\n",
            "memory usage: 144.2+ KB\n"
          ]
        }
      ],
      "source": [
        "# Convert to categorical\n",
        "df['Title'] = pd.Categorical(df.Title)\n",
        "df['Type'] = pd.Categorical(df.Type)\n",
        "df['BodyPart'] = pd.Categorical(df.BodyPart)\n",
        "df['Level'] = pd.Categorical(df.Level)\n",
        "\n",
        "df = df.loc[(df.Equipment == 'Body Only')] # (data.Level == 'Beginner'), (data.Desc.notna())\n",
        "\n",
        "df.info()"
      ]
    },
    {
      "cell_type": "code",
      "execution_count": 7,
      "metadata": {
        "colab": {
          "base_uri": "https://localhost:8080/"
        },
        "id": "kIgiGDi20XTe",
        "outputId": "38d047ce-afc2-45e0-b697-1ab90c3a89cb"
      },
      "outputs": [],
      "source": [
        "df.drop(['Unnamed: 0', 'Desc', 'RatingDesc'], axis=1, inplace=True)"
      ]
    },
    {
      "cell_type": "code",
      "execution_count": 8,
      "metadata": {
        "colab": {
          "base_uri": "https://localhost:8080/",
          "height": 206
        },
        "id": "tlX9_dwOajj9",
        "outputId": "16031fbd-8bfe-407c-d485-95a4f52ea902"
      },
      "outputs": [
        {
          "data": {
            "text/html": [
              "<div>\n",
              "<style scoped>\n",
              "    .dataframe tbody tr th:only-of-type {\n",
              "        vertical-align: middle;\n",
              "    }\n",
              "\n",
              "    .dataframe tbody tr th {\n",
              "        vertical-align: top;\n",
              "    }\n",
              "\n",
              "    .dataframe thead th {\n",
              "        text-align: right;\n",
              "    }\n",
              "</style>\n",
              "<table border=\"1\" class=\"dataframe\">\n",
              "  <thead>\n",
              "    <tr style=\"text-align: right;\">\n",
              "      <th></th>\n",
              "      <th>Title</th>\n",
              "      <th>Type</th>\n",
              "      <th>BodyPart</th>\n",
              "      <th>Equipment</th>\n",
              "      <th>Level</th>\n",
              "      <th>Rating</th>\n",
              "    </tr>\n",
              "  </thead>\n",
              "  <tbody>\n",
              "    <tr>\n",
              "      <th>185</th>\n",
              "      <td>Elbow plank</td>\n",
              "      <td>Strength</td>\n",
              "      <td>Abdominals</td>\n",
              "      <td>Body Only</td>\n",
              "      <td>Intermediate</td>\n",
              "      <td>9.3</td>\n",
              "    </tr>\n",
              "    <tr>\n",
              "      <th>186</th>\n",
              "      <td>Bottoms Up</td>\n",
              "      <td>Strength</td>\n",
              "      <td>Abdominals</td>\n",
              "      <td>Body Only</td>\n",
              "      <td>Intermediate</td>\n",
              "      <td>9.3</td>\n",
              "    </tr>\n",
              "    <tr>\n",
              "      <th>187</th>\n",
              "      <td>Spider crawl</td>\n",
              "      <td>Strength</td>\n",
              "      <td>Abdominals</td>\n",
              "      <td>Body Only</td>\n",
              "      <td>Intermediate</td>\n",
              "      <td>9.2</td>\n",
              "    </tr>\n",
              "    <tr>\n",
              "      <th>188</th>\n",
              "      <td>Cocoons</td>\n",
              "      <td>Strength</td>\n",
              "      <td>Abdominals</td>\n",
              "      <td>Body Only</td>\n",
              "      <td>Intermediate</td>\n",
              "      <td>9.1</td>\n",
              "    </tr>\n",
              "    <tr>\n",
              "      <th>189</th>\n",
              "      <td>Cross-Body Crunch</td>\n",
              "      <td>Strength</td>\n",
              "      <td>Abdominals</td>\n",
              "      <td>Body Only</td>\n",
              "      <td>Intermediate</td>\n",
              "      <td>9.1</td>\n",
              "    </tr>\n",
              "  </tbody>\n",
              "</table>\n",
              "</div>"
            ],
            "text/plain": [
              "                 Title      Type    BodyPart  Equipment         Level  Rating\n",
              "185        Elbow plank  Strength  Abdominals  Body Only  Intermediate     9.3\n",
              "186         Bottoms Up  Strength  Abdominals  Body Only  Intermediate     9.3\n",
              "187       Spider crawl  Strength  Abdominals  Body Only  Intermediate     9.2\n",
              "188            Cocoons  Strength  Abdominals  Body Only  Intermediate     9.1\n",
              "189  Cross-Body Crunch  Strength  Abdominals  Body Only  Intermediate     9.1"
            ]
          },
          "execution_count": 8,
          "metadata": {},
          "output_type": "execute_result"
        }
      ],
      "source": [
        "df.head()"
      ]
    },
    {
      "cell_type": "markdown",
      "metadata": {
        "id": "loEvLXEmzxiG"
      },
      "source": [
        "# Gym-Visual-EXERCISES-list.xlsx"
      ]
    },
    {
      "cell_type": "code",
      "execution_count": 9,
      "metadata": {
        "colab": {
          "base_uri": "https://localhost:8080/"
        },
        "id": "byPF1Z40ajj-",
        "outputId": "0d8099f6-18b8-4cb8-a4c6-701217197e1c"
      },
      "outputs": [
        {
          "name": "stdout",
          "output_type": "stream",
          "text": [
            "<class 'pandas.core.frame.DataFrame'>\n",
            "RangeIndex: 5657 entries, 0 to 5656\n",
            "Data columns (total 8 columns):\n",
            " #   Column         Non-Null Count  Dtype \n",
            "---  ------         --------------  ----- \n",
            " 0   ID             5657 non-null   int64 \n",
            " 1   Name           5657 non-null   object\n",
            " 2   Exercise type  5643 non-null   object\n",
            " 3   BodyPart       5640 non-null   object\n",
            " 4   Equipment      5650 non-null   object\n",
            " 5   Gender         5650 non-null   object\n",
            " 6   Target         4 non-null      object\n",
            " 7   Synergist      4 non-null      object\n",
            "dtypes: int64(1), object(7)\n",
            "memory usage: 353.7+ KB\n"
          ]
        }
      ],
      "source": [
        "df_xls.info()"
      ]
    },
    {
      "cell_type": "code",
      "execution_count": 10,
      "metadata": {
        "colab": {
          "base_uri": "https://localhost:8080/"
        },
        "id": "xyD0D11azJvp",
        "outputId": "a4e7791f-b399-40a7-f6f7-2bfb7137238b"
      },
      "outputs": [
        {
          "data": {
            "text/plain": [
              "ID                  0\n",
              "Name                0\n",
              "Exercise type      14\n",
              "BodyPart           17\n",
              "Equipment           7\n",
              "Gender              7\n",
              "Target           5653\n",
              "Synergist        5653\n",
              "dtype: int64"
            ]
          },
          "execution_count": 10,
          "metadata": {},
          "output_type": "execute_result"
        }
      ],
      "source": [
        "df_xls.isna().sum()"
      ]
    },
    {
      "cell_type": "code",
      "execution_count": 11,
      "metadata": {
        "id": "iWlaI_Z_0Ui-"
      },
      "outputs": [],
      "source": [
        "df_xls.drop(['ID', 'Target', 'Synergist'], axis=1, inplace=True)\n",
        "df_xls.rename(columns = {'Exercise type': 'Type', 'Name': 'Title'}, inplace=True)"
      ]
    },
    {
      "cell_type": "code",
      "execution_count": 12,
      "metadata": {
        "colab": {
          "base_uri": "https://localhost:8080/"
        },
        "id": "J3-KN4XKyKMr",
        "outputId": "6ae64721-f95c-48e2-e942-4983e8ba61a8"
      },
      "outputs": [
        {
          "name": "stdout",
          "output_type": "stream",
          "text": [
            "<class 'pandas.core.frame.DataFrame'>\n",
            "Index: 2212 entries, 0 to 5656\n",
            "Data columns (total 5 columns):\n",
            " #   Column     Non-Null Count  Dtype   \n",
            "---  ------     --------------  -----   \n",
            " 0   Title      2212 non-null   category\n",
            " 1   Type       2207 non-null   category\n",
            " 2   BodyPart   2202 non-null   category\n",
            " 3   Equipment  2212 non-null   object  \n",
            " 4   Gender     2212 non-null   category\n",
            "dtypes: category(4), object(1)\n",
            "memory usage: 221.1+ KB\n"
          ]
        }
      ],
      "source": [
        "# Convert to categorical\n",
        "df_xls['Title'] = pd.Categorical(df_xls.Title)\n",
        "df_xls['Type'] = pd.Categorical(df_xls.Type)\n",
        "df_xls['BodyPart'] = pd.Categorical(df_xls.BodyPart)\n",
        "df_xls['Gender'] = pd.Categorical(df_xls.Gender)\n",
        "\n",
        "df_xls = df_xls.loc[(df_xls.Equipment == 'Body weight')]\n",
        "\n",
        "df_xls.info()"
      ]
    },
    {
      "cell_type": "code",
      "execution_count": 13,
      "metadata": {
        "colab": {
          "base_uri": "https://localhost:8080/",
          "height": 206
        },
        "id": "1KhWh1dKygHo",
        "outputId": "64b38fed-2316-440c-97ca-85f99dbe21ad"
      },
      "outputs": [
        {
          "data": {
            "text/html": [
              "<div>\n",
              "<style scoped>\n",
              "    .dataframe tbody tr th:only-of-type {\n",
              "        vertical-align: middle;\n",
              "    }\n",
              "\n",
              "    .dataframe tbody tr th {\n",
              "        vertical-align: top;\n",
              "    }\n",
              "\n",
              "    .dataframe thead th {\n",
              "        text-align: right;\n",
              "    }\n",
              "</style>\n",
              "<table border=\"1\" class=\"dataframe\">\n",
              "  <thead>\n",
              "    <tr style=\"text-align: right;\">\n",
              "      <th></th>\n",
              "      <th>Title</th>\n",
              "      <th>Type</th>\n",
              "      <th>BodyPart</th>\n",
              "      <th>Equipment</th>\n",
              "      <th>Gender</th>\n",
              "    </tr>\n",
              "  </thead>\n",
              "  <tbody>\n",
              "    <tr>\n",
              "      <th>0</th>\n",
              "      <td>3/4 Sit-up</td>\n",
              "      <td>Strength</td>\n",
              "      <td>Waist</td>\n",
              "      <td>Body weight</td>\n",
              "      <td>Male</td>\n",
              "    </tr>\n",
              "    <tr>\n",
              "      <th>1</th>\n",
              "      <td>45 Side Bend</td>\n",
              "      <td>Strength</td>\n",
              "      <td>Waist</td>\n",
              "      <td>Body weight</td>\n",
              "      <td>Male</td>\n",
              "    </tr>\n",
              "    <tr>\n",
              "      <th>2</th>\n",
              "      <td>Air bike</td>\n",
              "      <td>Strength</td>\n",
              "      <td>Waist</td>\n",
              "      <td>Body weight</td>\n",
              "      <td>Male</td>\n",
              "    </tr>\n",
              "    <tr>\n",
              "      <th>3</th>\n",
              "      <td>Air Twisting Crunch</td>\n",
              "      <td>Strength</td>\n",
              "      <td>Waist</td>\n",
              "      <td>Body weight</td>\n",
              "      <td>Female</td>\n",
              "    </tr>\n",
              "    <tr>\n",
              "      <th>5</th>\n",
              "      <td>Alternate Heel Touchers</td>\n",
              "      <td>Strength</td>\n",
              "      <td>Waist</td>\n",
              "      <td>Body weight</td>\n",
              "      <td>Male</td>\n",
              "    </tr>\n",
              "  </tbody>\n",
              "</table>\n",
              "</div>"
            ],
            "text/plain": [
              "                     Title      Type BodyPart    Equipment  Gender\n",
              "0               3/4 Sit-up  Strength    Waist  Body weight    Male\n",
              "1             45 Side Bend  Strength    Waist  Body weight    Male\n",
              "2                 Air bike  Strength    Waist  Body weight    Male\n",
              "3      Air Twisting Crunch  Strength    Waist  Body weight  Female\n",
              "5  Alternate Heel Touchers  Strength    Waist  Body weight    Male"
            ]
          },
          "execution_count": 13,
          "metadata": {},
          "output_type": "execute_result"
        }
      ],
      "source": [
        "df_xls.head()"
      ]
    }
  ],
  "metadata": {
    "colab": {
      "include_colab_link": true,
      "provenance": []
    },
    "kernelspec": {
      "display_name": "Python 3.8.10 64-bit",
      "language": "python",
      "name": "python3"
    },
    "language_info": {
      "codemirror_mode": {
        "name": "ipython",
        "version": 3
      },
      "file_extension": ".py",
      "mimetype": "text/x-python",
      "name": "python",
      "nbconvert_exporter": "python",
      "pygments_lexer": "ipython3",
      "version": "3.8.10"
    },
    "orig_nbformat": 4,
    "vscode": {
      "interpreter": {
        "hash": "723d4b7bc280cd31fdada53ad6420192b9a3a8d60631096143cc718cb9440dc1"
      }
    }
  },
  "nbformat": 4,
  "nbformat_minor": 0
}
