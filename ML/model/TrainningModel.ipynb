{
  "nbformat": 4,
  "nbformat_minor": 0,
  "metadata": {
    "colab": {
      "provenance": []
    },
    "kernelspec": {
      "name": "python3",
      "display_name": "Python 3"
    },
    "language_info": {
      "name": "python"
    }
  },
  "cells": [
    {
      "cell_type": "code",
      "source": [
        "import pandas as pd\n",
        "from sklearn.model_selection import train_test_split\n",
        "from sklearn.linear_model import LinearRegression\n",
        "from sklearn.compose import ColumnTransformer\n",
        "from sklearn.preprocessing import OneHotEncoder\n",
        "from sklearn.pipeline import Pipeline\n",
        "from sklearn.metrics import mean_squared_error\n",
        "from sklearn.ensemble import RandomForestRegressor"
      ],
      "metadata": {
        "id": "90dQZAb3_Hx0"
      },
      "execution_count": 43,
      "outputs": []
    },
    {
      "cell_type": "markdown",
      "source": [
        "# Sample dataset"
      ],
      "metadata": {
        "id": "LXrDT4jGUSEn"
      }
    },
    {
      "cell_type": "code",
      "source": [
        "data = pd.read_json('/content/drive/MyDrive/Colab Notebooks/nutrition_data.json')"
      ],
      "metadata": {
        "id": "IfrYuFaDUI9b"
      },
      "execution_count": 44,
      "outputs": []
    },
    {
      "cell_type": "markdown",
      "source": [
        "\n",
        "# Select feature and target variable"
      ],
      "metadata": {
        "id": "LfBaYpcyUO8v"
      }
    },
    {
      "cell_type": "code",
      "source": [
        "features = ['Age', 'Weight' , 'Height', 'Activity_Level', 'Goal']\n",
        "target = 'Estimated_Calories'"
      ],
      "metadata": {
        "id": "e6v3vyh0t5eC"
      },
      "execution_count": 64,
      "outputs": []
    },
    {
      "cell_type": "markdown",
      "source": [
        "# Split data into features and target variable"
      ],
      "metadata": {
        "id": "dlcj4dkZUg3b"
      }
    },
    {
      "cell_type": "code",
      "source": [
        "X = data[features]\n",
        "y = data[target]\n"
      ],
      "metadata": {
        "id": "AYXpC58KUhPG"
      },
      "execution_count": 65,
      "outputs": []
    },
    {
      "cell_type": "markdown",
      "source": [
        "# Split data into training and testing sets"
      ],
      "metadata": {
        "id": "5_0A0NRrUis2"
      }
    },
    {
      "cell_type": "code",
      "source": [
        "X_train, X_test, y_train, y_test = train_test_split(X, y, test_size=0.2, random_state=42)\n"
      ],
      "metadata": {
        "id": "7gda4gVQUi6o"
      },
      "execution_count": 66,
      "outputs": []
    },
    {
      "cell_type": "markdown",
      "source": [
        "# Preprocessing for categorical variables"
      ],
      "metadata": {
        "id": "RPcwsjo6Ul90"
      }
    },
    {
      "cell_type": "code",
      "source": [
        "categorical_cols = ['Activity_Level', 'Goal']\n",
        "categorical_transformer = OneHotEncoder(handle_unknown='ignore')\n"
      ],
      "metadata": {
        "id": "FVIWhMD4UmE7"
      },
      "execution_count": 67,
      "outputs": []
    },
    {
      "cell_type": "markdown",
      "source": [
        "# Combine preprocessing steps\n"
      ],
      "metadata": {
        "id": "lnsJbCAiuThZ"
      }
    },
    {
      "cell_type": "code",
      "source": [
        "preprocessor = ColumnTransformer(\n",
        "    transformers=[\n",
        "        ('cat', categorical_transformer, categorical_cols)\n",
        "    ])"
      ],
      "metadata": {
        "id": "ENjziv7RuVyW"
      },
      "execution_count": 68,
      "outputs": []
    },
    {
      "cell_type": "markdown",
      "source": [
        "# Create pipelines for both models with preprocessing"
      ],
      "metadata": {
        "id": "DDlrMe6nuW-X"
      }
    },
    {
      "cell_type": "code",
      "source": [
        "linear_pipeline = Pipeline(steps=[\n",
        "    ('preprocessor', preprocessor),\n",
        "    ('regressor', LinearRegression())\n",
        "])\n",
        "\n",
        "forest_pipeline = Pipeline(steps=[\n",
        "    ('preprocessor', preprocessor),\n",
        "    ('regressor', RandomForestRegressor(n_estimators=100, random_state=42))\n",
        "])"
      ],
      "metadata": {
        "id": "hq6mWTuwuZPu"
      },
      "execution_count": 69,
      "outputs": []
    },
    {
      "cell_type": "markdown",
      "source": [
        "# Train and evaluate Linear Regression model"
      ],
      "metadata": {
        "id": "-oHVMxWxxRPD"
      }
    },
    {
      "cell_type": "code",
      "source": [
        "linear_pipeline.fit(X_train, y_train)\n",
        "linear_y_pred = linear_pipeline.predict(X_test)\n",
        "linear_mse = mean_squared_error(y_test, linear_y_pred)\n",
        "print(f\"Linear Regression Mean Squared Error: {linear_mse}\")"
      ],
      "metadata": {
        "colab": {
          "base_uri": "https://localhost:8080/"
        },
        "id": "3Qumx4dUxTRP",
        "outputId": "23ce1ae8-fbf1-4580-dfa1-8170cd30ce12"
      },
      "execution_count": 70,
      "outputs": [
        {
          "output_type": "stream",
          "name": "stdout",
          "text": [
            "Linear Regression Mean Squared Error: 25661.96853585435\n"
          ]
        }
      ]
    },
    {
      "cell_type": "markdown",
      "source": [
        "\n",
        "# Train and evaluate Random Forest Regressor model"
      ],
      "metadata": {
        "id": "DTvlzGPXxUww"
      }
    },
    {
      "cell_type": "code",
      "source": [
        "forest_pipeline.fit(X_train, y_train)\n",
        "forest_y_pred = forest_pipeline.predict(X_test)\n",
        "forest_mse = mean_squared_error(y_test, forest_y_pred)\n",
        "print(f\"Random Forest Regressor Mean Squared Error: {forest_mse}\")"
      ],
      "metadata": {
        "colab": {
          "base_uri": "https://localhost:8080/"
        },
        "id": "XeZgqrS8xV9_",
        "outputId": "d3307ee9-4827-4755-e10f-b17cb822697f"
      },
      "execution_count": 71,
      "outputs": [
        {
          "output_type": "stream",
          "name": "stdout",
          "text": [
            "Random Forest Regressor Mean Squared Error: 23362.40246864075\n"
          ]
        }
      ]
    }
  ]
}